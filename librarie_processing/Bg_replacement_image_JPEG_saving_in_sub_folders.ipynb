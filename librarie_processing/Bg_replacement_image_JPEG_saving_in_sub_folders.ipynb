{
 "cells": [
  {
   "cell_type": "code",
   "execution_count": null,
   "metadata": {},
   "outputs": [],
   "source": [
    "import torch\n",
    "import cv2\n",
    "import matplotlib.pyplot as plt\n",
    "import numpy as np\n",
    "from dis_bg_remover import remove_background\n",
    "import os"
   ]
  },
  {
   "cell_type": "code",
   "execution_count": null,
   "metadata": {},
   "outputs": [],
   "source": [
    "# Path to the input image and model\n",
    "image_path = \"E:\\\\My projects\\\\dis_librarie\\\\sample_inputs\\\\frame_0439.jpg\"\n",
    "model_path = \"E:\\\\My projects\\\\dis_librarie\\\\Model_files\\\\isnet_dis.onnx\"\n",
    "background_image_path = \"C:\\\\Users\\\\SaiduluShaik\\\\Downloads\\\\images.jpg\"  "
   ]
  },
  {
   "cell_type": "code",
   "execution_count": null,
   "metadata": {},
   "outputs": [],
   "source": [
    "# Load and display the input image\n",
    "plt.imshow(cv2.cvtColor(cv2.imread(image_path), cv2.COLOR_BGR2RGB))"
   ]
  },
  {
   "cell_type": "code",
   "execution_count": null,
   "metadata": {},
   "outputs": [],
   "source": [
    "# Remove background\n",
    "img, mask = remove_background(model_path, image_path)\n"
   ]
  },
  {
   "cell_type": "code",
   "execution_count": null,
   "metadata": {},
   "outputs": [],
   "source": [
    "# Create directories if they don't exist\n",
    "generated_dir = 'generated_images'\n",
    "mask_dir = 'mask_images'\n",
    "blended_dir = 'blended_images'"
   ]
  },
  {
   "cell_type": "code",
   "execution_count": null,
   "metadata": {},
   "outputs": [],
   "source": [
    "os.makedirs(generated_dir, exist_ok=True)\n",
    "os.makedirs(mask_dir, exist_ok=True)\n",
    "os.makedirs(blended_dir, exist_ok=True)"
   ]
  },
  {
   "cell_type": "code",
   "execution_count": null,
   "metadata": {},
   "outputs": [],
   "source": [
    "# Save the outputs\n",
    "cv2.imwrite(os.path.join(generated_dir, 'generated.png'), img)\n",
    "cv2.imwrite(os.path.join(mask_dir, 'mask.jpg'), mask)"
   ]
  },
  {
   "cell_type": "code",
   "execution_count": null,
   "metadata": {},
   "outputs": [],
   "source": [
    "# Load the custom background image\n",
    "custom_background = cv2.imread(background_image_path, cv2.IMREAD_UNCHANGED)\n",
    "# Resize the background image to match the input image dimensions\n",
    "custom_background = cv2.resize(custom_background, (img.shape[1], img.shape[0]))"
   ]
  },
  {
   "cell_type": "code",
   "execution_count": null,
   "metadata": {},
   "outputs": [],
   "source": [
    "# Ensure the background image has an alpha channel\n",
    "if custom_background.shape[2] == 3:\n",
    "    custom_background = cv2.cvtColor(custom_background, cv2.COLOR_BGR2BGRA)\n"
   ]
  },
  {
   "cell_type": "code",
   "execution_count": null,
   "metadata": {},
   "outputs": [],
   "source": [
    "# Create the alpha mask\n",
    "alpha_mask = (img[:, :, 3] / 255.0).reshape(img.shape[0], img.shape[1], 1)\n",
    "# Separate the foreground and background\n",
    "foreground = img[:, :, :3].astype(np.float32)  # Use only RGB channels of the foreground\n",
    "background = custom_background[:, :, :3].astype(np.float32)  # Use only RGB channels of the custom background"
   ]
  },
  {
   "cell_type": "code",
   "execution_count": null,
   "metadata": {},
   "outputs": [],
   "source": [
    "# Blend the images\n",
    "blended_image = (1 - alpha_mask) * background + alpha_mask * foreground\n",
    "blended_image = np.uint8(blended_image)\n",
    "# Convert from BGR to RGB for displaying in Matplotlib\n",
    "blended_image_rgb = cv2.cvtColor(blended_image, cv2.COLOR_BGR2RGB)"
   ]
  },
  {
   "cell_type": "code",
   "execution_count": null,
   "metadata": {},
   "outputs": [],
   "source": [
    "# Save the blended image\n",
    "output_image_path = os.path.join(blended_dir, 'blended_image_rgb.jpg')\n",
    "cv2.imwrite(output_image_path, blended_image)"
   ]
  },
  {
   "cell_type": "code",
   "execution_count": null,
   "metadata": {},
   "outputs": [],
   "source": [
    "# Display the image with the custom background\n",
    "plt.imshow(blended_image_rgb)\n",
    "plt.axis('off')  # Hide the axes\n",
    "plt.show()"
   ]
  },
  {
   "cell_type": "code",
   "execution_count": null,
   "metadata": {},
   "outputs": [],
   "source": []
  },
  {
   "cell_type": "code",
   "execution_count": null,
   "metadata": {},
   "outputs": [],
   "source": []
  },
  {
   "cell_type": "code",
   "execution_count": null,
   "metadata": {},
   "outputs": [],
   "source": []
  }
 ],
 "metadata": {
  "kernelspec": {
   "display_name": "dis_librarie_env",
   "language": "python",
   "name": "python3"
  },
  "language_info": {
   "codemirror_mode": {
    "name": "ipython",
    "version": 3
   },
   "file_extension": ".py",
   "mimetype": "text/x-python",
   "name": "python",
   "nbconvert_exporter": "python",
   "pygments_lexer": "ipython3",
   "version": "3.11.7"
  }
 },
 "nbformat": 4,
 "nbformat_minor": 2
}
